{
 "cells": [
  {
   "cell_type": "code",
   "execution_count": null,
   "metadata": {},
   "outputs": [],
   "source": [
    "# Calculates averaged over angle annihilation cross section of the scalar singlet DM required in \n",
    "# eq.(38) in 1706.07433"
   ]
  },
  {
   "cell_type": "code",
   "execution_count": 2,
   "metadata": {},
   "outputs": [],
   "source": [
    "import os\n",
    "import glob\n",
    "import numpy as np\n",
    "import matplotlib as mlib\n",
    "import matplotlib.pyplot as plt\n",
    "from mpl_toolkits.mplot3d import Axes3D\n",
    "import scipy.interpolate as inter\n",
    "from numpy import genfromtxt"
   ]
  },
  {
   "cell_type": "code",
   "execution_count": 3,
   "metadata": {},
   "outputs": [],
   "source": [
    "# Constants from 1706.07433\n",
    "\n",
    "mh=125.09\n",
    "v0=246.2"
   ]
  },
  {
   "cell_type": "code",
   "execution_count": 10,
   "metadata": {},
   "outputs": [],
   "source": [
    "font = {\n",
    "        'weight' : 'normal',\n",
    "        'size'   : 22}\n",
    "mlib.rc('font', **font)\n"
   ]
  },
  {
   "cell_type": "code",
   "execution_count": 11,
   "metadata": {},
   "outputs": [],
   "source": [
    "# s as a function of momenta p,q & cth=cos(theta(p,q))\n",
    "def ss(m,p,q,cth):\n",
    "    return 2*m**2+2*(np.sqrt(p**2+m**2)*np.sqrt(q**2+m**2)-p*q*cth)\n",
    "\n",
    "def wInv(ls, mh, ms):\n",
    "    return (ls**2*v0**2*np.sqrt(1-4*ms**2/mh**2))/(32*np.pi*mh)"
   ]
  },
  {
   "cell_type": "code",
   "execution_count": 14,
   "metadata": {},
   "outputs": [
    {
     "data": {
      "image/png": "[encoded data removed]",
      "text/plain": [
       "<Figure size 648x504 with 1 Axes>"
      ]
     },
     "metadata": {
      "needs_background": "light"
     },
     "output_type": "display_data"
    }
   ],
   "source": [
    "#Interpolating width from Table 28 in https://arxiv.org/pdf/1101.0593.pdf8 (below 300 GeV)\n",
    "\n",
    "WidthData=np.genfromtxt(\"Gamma_from_s.dat\", dtype=np.float64, delimiter=\"\\t\", comments=\"#\")\n",
    "WidthDataInterp = inter.InterpolatedUnivariateSpline(WidthData[:,0],WidthData[:,1], k=1)\n",
    "m = np.linspace(WidthData[1,0],WidthData[-1,0],1000)\n",
    "\n",
    "plt.figure(figsize=(9, 7))\n",
    "ax = plt.gca()\n",
    "\n",
    "plt.plot(m,WidthDataInterp(m), c=\"grey\",linestyle='-')\n",
    "ax.set_yscale(\"log\")"
   ]
  },
  {
   "cell_type": "code",
   "execution_count": 25,
   "metadata": {},
   "outputs": [],
   "source": [
    "# Calculating cross section for momenta p,q\n",
    "\n",
    "    \n",
    "ls=2*10**(-4)\n",
    "mm=np.array([62.5])\n",
    "pp = np.logspace(10**(-6),50,1000)\n",
    "qq = np.logspace(10**(-6),50,1000)\n",
    "\n",
    "with open(\"Tables/pt_{}.csv\".format(m),\"w\") as fout:\n",
    "        np.savetxt(fout, pp, fmt=\"%e\", delimiter=',')\n",
    "        \n",
    "for m in mm:\n",
    "\n",
    "    open(\"Tables/sv_{}.csv\".format(m),\"w\")\n",
    "\n",
    "    with open(\"Tables/sv_{}.csv\".format(m),\"a\") as fout:\n",
    "        np.savetxt(fout, [np.insert(pp,0,0)], fmt=\"%e\", delimiter='\\t')\n",
    "\n",
    "        for p in pp:\n",
    "            svlist=[]\n",
    "            for q in qq:\n",
    "                a=ss(m,p,q,-1)\n",
    "                b=ss(m,p,q,1)\n",
    "                s=np.linspace(b,a,1000)\n",
    "\n",
    "                if (m <= mh/2):\n",
    "                    I=np.trapz((np.sqrt(s)*WidthDataInterp(s))/((s-mh**2)**2+mh**2*\\\n",
    "                                    (WidthDataInterp(s)+wInv(ls,mh,m))**2),s)/(2*p*q)\n",
    "\n",
    "                else:\n",
    "                    I=np.trapz((np.sqrt(s)*WidthDataInterp(s))/((s-mh**2)**2+mh**2*WidthDataInterp(s)**2),s)\\\n",
    "                    /(2*p*q)\n",
    "\n",
    "                sv= (ls**2*v0**2*I)/(2*np.sqrt(p**2+m**2)*np.sqrt(q**2+m**2))\n",
    "                #print(sv)\n",
    "\n",
    "                svlist.append(sv)\n",
    "            #print(svlist)\n",
    "\n",
    "            np.savetxt(fout, [np.insert(np.array(svlist),0,p)], fmt=\"%e\", delimiter='\\t')"
   ]
  },
  {
   "cell_type": "code",
   "execution_count": null,
   "metadata": {},
   "outputs": [],
   "source": []
  }
 ],
 "metadata": {
  "kernelspec": {
   "display_name": "Python 3",
   "language": "python",
   "name": "python3"
  },
  "language_info": {
   "codemirror_mode": {
    "name": "ipython",
    "version": 3
   },
   "file_extension": ".py",
   "mimetype": "text/x-python",
   "name": "python",
   "nbconvert_exporter": "python",
   "pygments_lexer": "ipython3",
   "version": "3.6.4"
  }
 },
 "nbformat": 4,
 "nbformat_minor": 2
}
